{
 "cells": [
  {
   "cell_type": "code",
   "execution_count": 222,
   "metadata": {},
   "outputs": [],
   "source": [
    "import pandas as pd\n",
    "import numpy as np\n",
    "import matplotlib.pyplot as plt\n",
    "from datetime import datetime\n",
    "import datetime as dt\n",
    "from vaderSentiment.vaderSentiment import SentimentIntensityAnalyzer\n",
    "import quantstats as qs\n",
    "\n",
    "# extend pandas functionality with metrics, etc.\n",
    "qs.extend_pandas()"
   ]
  },
  {
   "cell_type": "code",
   "execution_count": 167,
   "metadata": {},
   "outputs": [],
   "source": [
    "company = \"IPOE\"\n",
    "\n",
    "twitter_df = pd.read_csv(\"twitter_data/spac_aggregate.csv\")\n",
    "stock_df = pd.read_csv(\"stock_data/{}.csv\".format(company))"
   ]
  },
  {
   "cell_type": "code",
   "execution_count": 168,
   "metadata": {},
   "outputs": [
    {
     "data": {
      "text/html": [
       "<div>\n",
       "<style scoped>\n",
       "    .dataframe tbody tr th:only-of-type {\n",
       "        vertical-align: middle;\n",
       "    }\n",
       "\n",
       "    .dataframe tbody tr th {\n",
       "        vertical-align: top;\n",
       "    }\n",
       "\n",
       "    .dataframe thead th {\n",
       "        text-align: right;\n",
       "    }\n",
       "</style>\n",
       "<table border=\"1\" class=\"dataframe\">\n",
       "  <thead>\n",
       "    <tr style=\"text-align: right;\">\n",
       "      <th></th>\n",
       "      <th>Date</th>\n",
       "      <th>Open</th>\n",
       "      <th>High</th>\n",
       "      <th>Low</th>\n",
       "      <th>Close</th>\n",
       "      <th>Volume</th>\n",
       "      <th>% change tomorrow</th>\n",
       "    </tr>\n",
       "  </thead>\n",
       "  <tbody>\n",
       "    <tr>\n",
       "      <th>0</th>\n",
       "      <td>2020-12-01</td>\n",
       "      <td>10.60</td>\n",
       "      <td>10.740</td>\n",
       "      <td>10.46</td>\n",
       "      <td>10.60</td>\n",
       "      <td>437500</td>\n",
       "      <td>-0.004739</td>\n",
       "    </tr>\n",
       "    <tr>\n",
       "      <th>1</th>\n",
       "      <td>2020-12-02</td>\n",
       "      <td>10.65</td>\n",
       "      <td>10.705</td>\n",
       "      <td>10.40</td>\n",
       "      <td>10.55</td>\n",
       "      <td>318100</td>\n",
       "      <td>-0.012476</td>\n",
       "    </tr>\n",
       "    <tr>\n",
       "      <th>2</th>\n",
       "      <td>2020-12-03</td>\n",
       "      <td>10.55</td>\n",
       "      <td>10.560</td>\n",
       "      <td>10.40</td>\n",
       "      <td>10.42</td>\n",
       "      <td>448300</td>\n",
       "      <td>-0.000961</td>\n",
       "    </tr>\n",
       "    <tr>\n",
       "      <th>3</th>\n",
       "      <td>2020-12-04</td>\n",
       "      <td>10.65</td>\n",
       "      <td>10.650</td>\n",
       "      <td>10.37</td>\n",
       "      <td>10.41</td>\n",
       "      <td>536500</td>\n",
       "      <td>0.019774</td>\n",
       "    </tr>\n",
       "    <tr>\n",
       "      <th>4</th>\n",
       "      <td>2020-12-07</td>\n",
       "      <td>10.69</td>\n",
       "      <td>10.800</td>\n",
       "      <td>10.44</td>\n",
       "      <td>10.62</td>\n",
       "      <td>824200</td>\n",
       "      <td>0.022999</td>\n",
       "    </tr>\n",
       "  </tbody>\n",
       "</table>\n",
       "</div>"
      ],
      "text/plain": [
       "         Date   Open    High    Low  Close  Volume  % change tomorrow\n",
       "0  2020-12-01  10.60  10.740  10.46  10.60  437500          -0.004739\n",
       "1  2020-12-02  10.65  10.705  10.40  10.55  318100          -0.012476\n",
       "2  2020-12-03  10.55  10.560  10.40  10.42  448300          -0.000961\n",
       "3  2020-12-04  10.65  10.650  10.37  10.41  536500           0.019774\n",
       "4  2020-12-07  10.69  10.800  10.44  10.62  824200           0.022999"
      ]
     },
     "execution_count": 168,
     "metadata": {},
     "output_type": "execute_result"
    }
   ],
   "source": [
    "stock_df['% change tomorrow'] = -stock_df[['Close']].pct_change(periods=-1)\n",
    "stock_df = stock_df.dropna()\n",
    "stock_df['Date'] = pd.to_datetime(stock_df['Date']).dt.date\n",
    "stock_df.head()"
   ]
  },
  {
   "cell_type": "code",
   "execution_count": 169,
   "metadata": {},
   "outputs": [],
   "source": [
    "# getting the dates in order\n",
    "twitter_df[\"datetime\"] = twitter_df[['timestamp']].apply(datetime.fromtimestamp,axis=1)\n",
    "twitter_df['date'] = twitter_df['datetime'].dt.date"
   ]
  },
  {
   "cell_type": "code",
   "execution_count": 170,
   "metadata": {},
   "outputs": [],
   "source": [
    "#adding sentiment in\n",
    "analyzer = SentimentIntensityAnalyzer()\n",
    "twitter_df[\"sentiment_scores\"] = twitter_df[['text']].apply(analyzer.polarity_scores,axis=1)\n",
    "twitter_df[\"sentiment\"] = twitter_df[['text']].apply(lambda x: analyzer.polarity_scores(x)['compound'],axis=1)"
   ]
  },
  {
   "cell_type": "markdown",
   "metadata": {},
   "source": [
    "# Simple analysis"
   ]
  },
  {
   "cell_type": "code",
   "execution_count": 171,
   "metadata": {},
   "outputs": [],
   "source": [
    "twitter_df = twitter_df[twitter_df['text'].str.contains(company)]"
   ]
  },
  {
   "cell_type": "code",
   "execution_count": 172,
   "metadata": {},
   "outputs": [
    {
     "data": {
      "text/plain": [
       "(126, 12)"
      ]
     },
     "execution_count": 172,
     "metadata": {},
     "output_type": "execute_result"
    }
   ],
   "source": [
    "twitter_df.shape"
   ]
  },
  {
   "cell_type": "code",
   "execution_count": 173,
   "metadata": {},
   "outputs": [],
   "source": [
    "#this might not be too telling since there has been a lot of spam posts of late \n",
    "#(maybe filter to get rid of posts that seem like spam)\n",
    "filtered_df = twitter_df[(twitter_df['retweets'] >=0) & (twitter_df['likes'] >= 0)]\n",
    "means = filtered_df[[\"likes\", \"retweets\", \"replies\", \"sentiment\", \"date\"]].groupby(['date']).mean()\n",
    "means = means.dropna()"
   ]
  },
  {
   "cell_type": "code",
   "execution_count": 174,
   "metadata": {},
   "outputs": [
    {
     "data": {
      "text/plain": [
       "(53, 4)"
      ]
     },
     "execution_count": 174,
     "metadata": {},
     "output_type": "execute_result"
    }
   ],
   "source": [
    "means.shape"
   ]
  },
  {
   "cell_type": "code",
   "execution_count": 175,
   "metadata": {},
   "outputs": [],
   "source": [
    "merged = pd.merge(stock_df.set_index('Date'), means, left_index=True, right_index=True)"
   ]
  },
  {
   "cell_type": "code",
   "execution_count": 176,
   "metadata": {},
   "outputs": [
    {
     "data": {
      "text/plain": [
       "0.062228198575376786"
      ]
     },
     "execution_count": 176,
     "metadata": {},
     "output_type": "execute_result"
    }
   ],
   "source": [
    "merged['sentiment'].clip(upper=10000).corr(merged['% change tomorrow'])"
   ]
  },
  {
   "cell_type": "code",
   "execution_count": 177,
   "metadata": {},
   "outputs": [
    {
     "data": {
      "text/plain": [
       "<matplotlib.collections.PathCollection at 0x7fc63c04b160>"
      ]
     },
     "execution_count": 177,
     "metadata": {},
     "output_type": "execute_result"
    },
    {
     "data": {
      "image/png": "[encoded data removed]",
      "text/plain": [
       "<Figure size 432x288 with 1 Axes>"
      ]
     },
     "metadata": {
      "needs_background": "light"
     },
     "output_type": "display_data"
    }
   ],
   "source": [
    "plt.scatter(merged['sentiment'].clip(upper=10000), merged['% change tomorrow'])"
   ]
  },
  {
   "cell_type": "markdown",
   "metadata": {},
   "source": [
    "# backtesting"
   ]
  },
  {
   "cell_type": "code",
   "execution_count": 198,
   "metadata": {},
   "outputs": [],
   "source": [
    "money = 100\n",
    "indices = []\n",
    "profits = []\n",
    "\n",
    "for index, row in merged.iterrows():\n",
    "    if row['likes'] > 25 and row['sentiment'] >= 0:\n",
    "        profits.append(money*(1+row['% change tomorrow']))\n",
    "        indices.append(index)\n",
    "        money *= (1+row['% change tomorrow'])\n",
    "    elif row['sentiment'] < 0 and row['likes'] > 25:\n",
    "        profits.append(money/(1+row['% change tomorrow']))\n",
    "        indices.append(index)\n",
    "        money /= (1+row['% change tomorrow'])\n",
    "        pass"
   ]
  },
  {
   "cell_type": "code",
   "execution_count": 199,
   "metadata": {},
   "outputs": [
    {
     "data": {
      "image/png": "[encoded data removed]",
      "text/plain": [
       "<Figure size 432x288 with 1 Axes>"
      ]
     },
     "metadata": {
      "needs_background": "light"
     },
     "output_type": "display_data"
    }
   ],
   "source": [
    "plt.title(\"PNL For IPOE Based On Tweets\")\n",
    "plt.plot(indices, profits)\n",
    "plt.xticks(rotation=45)\n",
    "plt.show()\n"
   ]
  },
  {
   "cell_type": "code",
   "execution_count": 200,
   "metadata": {},
   "outputs": [],
   "source": [
    "def create_merged_df(ticker):\n",
    "    twitter_df = pd.read_csv(\"twitter_data/spac_aggregate.csv\")\n",
    "    stock_df = pd.read_csv(\"stock_data/{}.csv\".format(ticker))\n",
    "    \n",
    "    stock_df['% change tomorrow'] = -stock_df[['Close']].pct_change(periods=-1)\n",
    "    stock_df = stock_df.dropna()\n",
    "    stock_df['Date'] = pd.to_datetime(stock_df['Date']).dt.date\n",
    "    stock_df.head()\n",
    "    \n",
    "    # getting the dates in order\n",
    "    twitter_df[\"datetime\"] = twitter_df[['timestamp']].apply(datetime.fromtimestamp,axis=1)\n",
    "    twitter_df['date'] = twitter_df['datetime'].dt.date\n",
    "    \n",
    "    #adding sentiment in\n",
    "    analyzer = SentimentIntensityAnalyzer()\n",
    "    twitter_df[\"sentiment_scores\"] = twitter_df[['text']].apply(analyzer.polarity_scores,axis=1)\n",
    "    twitter_df[\"sentiment\"] = twitter_df[['text']].apply(lambda x: analyzer.polarity_scores(x)['compound'],axis=1)\n",
    "    \n",
    "    twitter_df = twitter_df[twitter_df['text'].str.contains(company)]\n",
    "    \n",
    "    #this might not be too telling since there has been a lot of spam posts of late \n",
    "    #(maybe filter to get rid of posts that seem like spam)\n",
    "    filtered_df = twitter_df[(twitter_df['retweets'] >=0) & (twitter_df['likes'] >= 0)]\n",
    "    means = filtered_df[[\"likes\", \"retweets\", \"replies\", \"sentiment\", \"date\"]].groupby(['date']).mean()\n",
    "    means = means.dropna()\n",
    "    \n",
    "    merged = pd.merge(stock_df.set_index('Date'), means, left_index=True, right_index=True)\n",
    "    \n",
    "    return merged"
   ]
  },
  {
   "cell_type": "code",
   "execution_count": 201,
   "metadata": {},
   "outputs": [],
   "source": [
    "tickers = [\"SPCE\", \"SOAC\", \"SNPR\", \"SHLL\", \"PSTH\", \"NOVSU\", \"JWS\", \"DKNG\", \"CLA\", \"CCIV\", \"BTAQ\", \"BFT\", \"APSG\"]\n",
    "merged = create_merged_df(\"IPOE\")\n",
    "for ticker in tickers:\n",
    "    merged = merged.append(create_merged_df(ticker))"
   ]
  },
  {
   "cell_type": "code",
   "execution_count": 202,
   "metadata": {},
   "outputs": [
    {
     "data": {
      "text/html": [
       "<div>\n",
       "<style scoped>\n",
       "    .dataframe tbody tr th:only-of-type {\n",
       "        vertical-align: middle;\n",
       "    }\n",
       "\n",
       "    .dataframe tbody tr th {\n",
       "        vertical-align: top;\n",
       "    }\n",
       "\n",
       "    .dataframe thead th {\n",
       "        text-align: right;\n",
       "    }\n",
       "</style>\n",
       "<table border=\"1\" class=\"dataframe\">\n",
       "  <thead>\n",
       "    <tr style=\"text-align: right;\">\n",
       "      <th></th>\n",
       "      <th>Open</th>\n",
       "      <th>High</th>\n",
       "      <th>Low</th>\n",
       "      <th>Close</th>\n",
       "      <th>Volume</th>\n",
       "      <th>% change tomorrow</th>\n",
       "      <th>likes</th>\n",
       "      <th>retweets</th>\n",
       "      <th>replies</th>\n",
       "      <th>sentiment</th>\n",
       "      <th>Adj Close</th>\n",
       "    </tr>\n",
       "  </thead>\n",
       "  <tbody>\n",
       "    <tr>\n",
       "      <th>2021-02-25</th>\n",
       "      <td>10.64</td>\n",
       "      <td>10.71</td>\n",
       "      <td>10.305</td>\n",
       "      <td>10.36</td>\n",
       "      <td>1071400</td>\n",
       "      <td>0.012393</td>\n",
       "      <td>56.0</td>\n",
       "      <td>8.0</td>\n",
       "      <td>7.0</td>\n",
       "      <td>0.0000</td>\n",
       "      <td>NaN</td>\n",
       "    </tr>\n",
       "    <tr>\n",
       "      <th>2021-02-26</th>\n",
       "      <td>10.32</td>\n",
       "      <td>10.54</td>\n",
       "      <td>10.210</td>\n",
       "      <td>10.49</td>\n",
       "      <td>676800</td>\n",
       "      <td>-0.007685</td>\n",
       "      <td>119.0</td>\n",
       "      <td>15.0</td>\n",
       "      <td>22.0</td>\n",
       "      <td>0.1901</td>\n",
       "      <td>NaN</td>\n",
       "    </tr>\n",
       "    <tr>\n",
       "      <th>2021-03-01</th>\n",
       "      <td>10.51</td>\n",
       "      <td>10.59</td>\n",
       "      <td>10.360</td>\n",
       "      <td>10.41</td>\n",
       "      <td>626500</td>\n",
       "      <td>-0.003857</td>\n",
       "      <td>71.0</td>\n",
       "      <td>5.0</td>\n",
       "      <td>3.0</td>\n",
       "      <td>0.4939</td>\n",
       "      <td>NaN</td>\n",
       "    </tr>\n",
       "    <tr>\n",
       "      <th>2021-03-03</th>\n",
       "      <td>10.26</td>\n",
       "      <td>10.30</td>\n",
       "      <td>10.080</td>\n",
       "      <td>10.12</td>\n",
       "      <td>531700</td>\n",
       "      <td>-0.000000</td>\n",
       "      <td>68.0</td>\n",
       "      <td>7.0</td>\n",
       "      <td>7.0</td>\n",
       "      <td>0.0000</td>\n",
       "      <td>NaN</td>\n",
       "    </tr>\n",
       "    <tr>\n",
       "      <th>2021-03-04</th>\n",
       "      <td>10.10</td>\n",
       "      <td>10.75</td>\n",
       "      <td>10.000</td>\n",
       "      <td>10.12</td>\n",
       "      <td>1640000</td>\n",
       "      <td>-0.003968</td>\n",
       "      <td>48.0</td>\n",
       "      <td>7.0</td>\n",
       "      <td>7.0</td>\n",
       "      <td>0.0000</td>\n",
       "      <td>NaN</td>\n",
       "    </tr>\n",
       "  </tbody>\n",
       "</table>\n",
       "</div>"
      ],
      "text/plain": [
       "             Open   High     Low  Close   Volume  % change tomorrow  likes  \\\n",
       "2021-02-25  10.64  10.71  10.305  10.36  1071400           0.012393   56.0   \n",
       "2021-02-26  10.32  10.54  10.210  10.49   676800          -0.007685  119.0   \n",
       "2021-03-01  10.51  10.59  10.360  10.41   626500          -0.003857   71.0   \n",
       "2021-03-03  10.26  10.30  10.080  10.12   531700          -0.000000   68.0   \n",
       "2021-03-04  10.10  10.75  10.000  10.12  1640000          -0.003968   48.0   \n",
       "\n",
       "            retweets  replies  sentiment Adj Close  \n",
       "2021-02-25       8.0      7.0     0.0000       NaN  \n",
       "2021-02-26      15.0     22.0     0.1901       NaN  \n",
       "2021-03-01       5.0      3.0     0.4939       NaN  \n",
       "2021-03-03       7.0      7.0     0.0000       NaN  \n",
       "2021-03-04       7.0      7.0     0.0000       NaN  "
      ]
     },
     "execution_count": 202,
     "metadata": {},
     "output_type": "execute_result"
    }
   ],
   "source": [
    "merged.tail()"
   ]
  },
  {
   "cell_type": "code",
   "execution_count": 203,
   "metadata": {},
   "outputs": [
    {
     "data": {
      "text/plain": [
       "Index([2020-12-17, 2020-12-22, 2020-12-30, 2021-01-05, 2021-01-06, 2021-01-07,\n",
       "       2021-01-08, 2021-01-11, 2021-01-12, 2021-01-13, 2021-01-14, 2021-01-15,\n",
       "       2021-01-19, 2021-01-20, 2021-01-21, 2021-01-22, 2021-01-25, 2021-01-26,\n",
       "       2021-01-27, 2021-01-28, 2021-01-29, 2021-02-01, 2021-02-02, 2021-02-04,\n",
       "       2021-02-05, 2021-02-08, 2021-02-09, 2021-02-11, 2021-02-12, 2021-02-16,\n",
       "       2021-02-22, 2021-02-23, 2021-02-24, 2021-02-25, 2021-02-26, 2021-03-01,\n",
       "       2021-03-03, 2021-03-04, 2020-09-18, 2020-10-08, 2020-10-09, 2020-11-11,\n",
       "       2020-11-30],\n",
       "      dtype='object')"
      ]
     },
     "execution_count": 203,
     "metadata": {},
     "output_type": "execute_result"
    }
   ],
   "source": [
    "merged.index.unique()"
   ]
  },
  {
   "cell_type": "code",
   "execution_count": 314,
   "metadata": {},
   "outputs": [],
   "source": [
    "average_sharpe = 0\n",
    "trials = 500\n",
    "for i in range(trials):\n",
    "    money = 100\n",
    "    indices = []\n",
    "    profits = []\n",
    "    returns = []\n",
    "\n",
    "\n",
    "\n",
    "    for date in sorted(merged.index.unique()):\n",
    "        #print(date)\n",
    "        sub = merged[merged.index == date]\n",
    "        r = sub.loc[sub['likes'].idxmax()].sample(n=1).iloc[0]\n",
    "        if r['sentiment'] > .2:\n",
    "            profits.append(money*(1+r['% change tomorrow']))\n",
    "            indices.append(date)\n",
    "            money *= (1+ r['% change tomorrow'])\n",
    "            returns.append(r['% change tomorrow'])\n",
    "        elif r['sentiment'] < 0:\n",
    "            profits.append(money/(1+r['% change tomorrow']))\n",
    "            indices.append(date)\n",
    "            money /= (1+r['% change tomorrow'])\n",
    "            returns.append(1/(1+r['% change tomorrow']) - 1)\n",
    "\n",
    "    x = pd.DataFrame()\n",
    "    x['Date'] = indices\n",
    "    x['Returns'] = returns\n",
    "    x.set_index('Date')['Returns']\n",
    "    sharpe = qs.stats.sharpe(x.set_index('Date')['Returns'])\n",
    "    #print(sharpe)\n",
    "    average_sharpe += sharpe/trials"
   ]
  },
  {
   "cell_type": "code",
   "execution_count": 315,
   "metadata": {},
   "outputs": [
    {
     "name": "stdout",
     "output_type": "stream",
     "text": [
      "2.0146136287395975\n"
     ]
    }
   ],
   "source": [
    "print(average_sharpe)"
   ]
  },
  {
   "cell_type": "code",
   "execution_count": 316,
   "metadata": {},
   "outputs": [
    {
     "data": {
      "image/png": "[encoded data removed]",
      "text/plain": [
       "<Figure size 432x288 with 1 Axes>"
      ]
     },
     "metadata": {
      "needs_background": "light"
     },
     "output_type": "display_data"
    }
   ],
   "source": [
    "plt.title(\"Investing in the Top Engaged Tweets Across Spacs\")\n",
    "plt.ylabel(\"Cumulative Profits\")\n",
    "plt.xlabel(\"Date\")\n",
    "plt.plot(indices, profits)\n",
    "plt.xticks(rotation=45)\n",
    "plt.show()"
   ]
  },
  {
   "cell_type": "code",
   "execution_count": 317,
   "metadata": {},
   "outputs": [],
   "source": [
    "average_sharpe = 0\n",
    "trials = 500\n",
    "for i in range(trials):\n",
    "    money = 100\n",
    "    indices = []\n",
    "    profits = []\n",
    "    returns = []\n",
    "\n",
    "\n",
    "\n",
    "    for date in sorted(merged.index.unique()):\n",
    "        #print(date)\n",
    "        sub = merged.sample(n=1)  \n",
    "        r = sub.iloc[0]\n",
    "        profits.append(money*(1+r['% change tomorrow']))\n",
    "        indices.append(date)\n",
    "        money *= (1+ r['% change tomorrow'])\n",
    "        returns.append(r['% change tomorrow'])\n",
    "\n",
    "\n",
    "    x = pd.DataFrame()\n",
    "    x['Date'] = indices\n",
    "    x['Returns'] = returns\n",
    "    x.set_index('Date')['Returns']\n",
    "    sharpe = qs.stats.sharpe(x.set_index('Date')['Returns'])\n",
    "    #print(sharpe)\n",
    "    average_sharpe += sharpe/trials"
   ]
  },
  {
   "cell_type": "code",
   "execution_count": 318,
   "metadata": {},
   "outputs": [
    {
     "name": "stdout",
     "output_type": "stream",
     "text": [
      "1.364208328648806\n"
     ]
    }
   ],
   "source": [
    "print(average_sharpe)"
   ]
  },
  {
   "cell_type": "code",
   "execution_count": null,
   "metadata": {},
   "outputs": [],
   "source": [
    "plt.title(\"Just Buying a Random Spac\")\n",
    "plt.ylabel(\"Cumulative Profits\")\n",
    "plt.xlabel(\"Date\")\n",
    "plt.plot(indices, profits)\n",
    "plt.xticks(rotation=45)\n",
    "plt.show()"
   ]
  },
  {
   "cell_type": "code",
   "execution_count": 272,
   "metadata": {},
   "outputs": [
    {
     "data": {
      "text/html": [
       "<div>\n",
       "<style scoped>\n",
       "    .dataframe tbody tr th:only-of-type {\n",
       "        vertical-align: middle;\n",
       "    }\n",
       "\n",
       "    .dataframe tbody tr th {\n",
       "        vertical-align: top;\n",
       "    }\n",
       "\n",
       "    .dataframe thead th {\n",
       "        text-align: right;\n",
       "    }\n",
       "</style>\n",
       "<table border=\"1\" class=\"dataframe\">\n",
       "  <thead>\n",
       "    <tr style=\"text-align: right;\">\n",
       "      <th></th>\n",
       "      <th>Open</th>\n",
       "      <th>High</th>\n",
       "      <th>Low</th>\n",
       "      <th>Close</th>\n",
       "      <th>Volume</th>\n",
       "      <th>% change tomorrow</th>\n",
       "      <th>likes</th>\n",
       "      <th>retweets</th>\n",
       "      <th>replies</th>\n",
       "      <th>sentiment</th>\n",
       "      <th>Adj Close</th>\n",
       "    </tr>\n",
       "  </thead>\n",
       "  <tbody>\n",
       "    <tr>\n",
       "      <th>2020-12-17</th>\n",
       "      <td>9.98</td>\n",
       "      <td>10.0</td>\n",
       "      <td>9.945</td>\n",
       "      <td>9.97</td>\n",
       "      <td>1483600</td>\n",
       "      <td>-0.001004</td>\n",
       "      <td>0.0</td>\n",
       "      <td>2.0</td>\n",
       "      <td>0.0</td>\n",
       "      <td>0.0</td>\n",
       "      <td>NaN</td>\n",
       "    </tr>\n",
       "  </tbody>\n",
       "</table>\n",
       "</div>"
      ],
      "text/plain": [
       "            Open  High    Low  Close   Volume  % change tomorrow  likes  \\\n",
       "2020-12-17  9.98  10.0  9.945   9.97  1483600          -0.001004    0.0   \n",
       "\n",
       "            retweets  replies  sentiment Adj Close  \n",
       "2020-12-17       2.0      0.0        0.0       NaN  "
      ]
     },
     "execution_count": 272,
     "metadata": {},
     "output_type": "execute_result"
    }
   ],
   "source": [
    "merged.sample(n=1)"
   ]
  },
  {
   "cell_type": "code",
   "execution_count": 275,
   "metadata": {},
   "outputs": [
    {
     "data": {
      "text/plain": [
       "1.8001806350992517"
      ]
     },
     "execution_count": 275,
     "metadata": {},
     "output_type": "execute_result"
    }
   ],
   "source": [
    "x = pd.DataFrame()\n",
    "x['Date'] = indices\n",
    "x['Returns'] = returns\n",
    "x.set_index('Date')['Returns']\n",
    "qs.stats.sharpe(x.set_index('Date')['Returns'])"
   ]
  },
  {
   "cell_type": "code",
   "execution_count": null,
   "metadata": {},
   "outputs": [],
   "source": []
  }
 ],
 "metadata": {
  "kernelspec": {
   "display_name": "Python 3",
   "language": "python",
   "name": "python3"
  },
  "language_info": {
   "codemirror_mode": {
    "name": "ipython",
    "version": 3
   },
   "file_extension": ".py",
   "mimetype": "text/x-python",
   "name": "python",
   "nbconvert_exporter": "python",
   "pygments_lexer": "ipython3",
   "version": "3.8.5"
  }
 },
 "nbformat": 4,
 "nbformat_minor": 4
}
