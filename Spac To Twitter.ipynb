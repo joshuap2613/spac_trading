{
 "cells": [
  {
   "cell_type": "code",
   "execution_count": 52,
   "metadata": {},
   "outputs": [],
   "source": [
    "import pandas as pd\n",
    "import numpy as np\n",
    "import matplotlib.pyplot as plt\n",
    "from datetime import datetime\n",
    "import datetime as dt\n",
    "from vaderSentiment.vaderSentiment import SentimentIntensityAnalyzer"
   ]
  },
  {
   "cell_type": "code",
   "execution_count": 87,
   "metadata": {},
   "outputs": [],
   "source": [
    "twitter_df = pd.read_csv(\"twitter_data/DKNG_tweets.csv\")\n",
    "stock_df = pd.read_csv(\"stock_data/DKNG.csv\")"
   ]
  },
  {
   "cell_type": "code",
   "execution_count": 88,
   "metadata": {},
   "outputs": [
    {
     "data": {
      "text/html": [
       "<div>\n",
       "<style scoped>\n",
       "    .dataframe tbody tr th:only-of-type {\n",
       "        vertical-align: middle;\n",
       "    }\n",
       "\n",
       "    .dataframe tbody tr th {\n",
       "        vertical-align: top;\n",
       "    }\n",
       "\n",
       "    .dataframe thead th {\n",
       "        text-align: right;\n",
       "    }\n",
       "</style>\n",
       "<table border=\"1\" class=\"dataframe\">\n",
       "  <thead>\n",
       "    <tr style=\"text-align: right;\">\n",
       "      <th></th>\n",
       "      <th>Date</th>\n",
       "      <th>Open</th>\n",
       "      <th>High</th>\n",
       "      <th>Low</th>\n",
       "      <th>Close</th>\n",
       "      <th>Volume</th>\n",
       "      <th>% change tomorrow</th>\n",
       "    </tr>\n",
       "  </thead>\n",
       "  <tbody>\n",
       "    <tr>\n",
       "      <th>0</th>\n",
       "      <td>2020-10-07</td>\n",
       "      <td>52.860001</td>\n",
       "      <td>54.880001</td>\n",
       "      <td>52.200001</td>\n",
       "      <td>53.330002</td>\n",
       "      <td>65474600</td>\n",
       "      <td>-0.043028</td>\n",
       "    </tr>\n",
       "    <tr>\n",
       "      <th>1</th>\n",
       "      <td>2020-10-08</td>\n",
       "      <td>54.158001</td>\n",
       "      <td>54.779999</td>\n",
       "      <td>50.610001</td>\n",
       "      <td>51.130001</td>\n",
       "      <td>37242500</td>\n",
       "      <td>-0.047317</td>\n",
       "    </tr>\n",
       "    <tr>\n",
       "      <th>2</th>\n",
       "      <td>2020-10-09</td>\n",
       "      <td>50.750000</td>\n",
       "      <td>51.700001</td>\n",
       "      <td>48.259998</td>\n",
       "      <td>48.820000</td>\n",
       "      <td>29572800</td>\n",
       "      <td>0.035178</td>\n",
       "    </tr>\n",
       "    <tr>\n",
       "      <th>3</th>\n",
       "      <td>2020-10-12</td>\n",
       "      <td>51.009998</td>\n",
       "      <td>52.520000</td>\n",
       "      <td>50.330002</td>\n",
       "      <td>50.599998</td>\n",
       "      <td>31713500</td>\n",
       "      <td>0.011333</td>\n",
       "    </tr>\n",
       "    <tr>\n",
       "      <th>4</th>\n",
       "      <td>2020-10-13</td>\n",
       "      <td>50.849998</td>\n",
       "      <td>51.400002</td>\n",
       "      <td>49.525002</td>\n",
       "      <td>51.180000</td>\n",
       "      <td>19134200</td>\n",
       "      <td>-0.076114</td>\n",
       "    </tr>\n",
       "  </tbody>\n",
       "</table>\n",
       "</div>"
      ],
      "text/plain": [
       "         Date       Open       High        Low      Close    Volume  \\\n",
       "0  2020-10-07  52.860001  54.880001  52.200001  53.330002  65474600   \n",
       "1  2020-10-08  54.158001  54.779999  50.610001  51.130001  37242500   \n",
       "2  2020-10-09  50.750000  51.700001  48.259998  48.820000  29572800   \n",
       "3  2020-10-12  51.009998  52.520000  50.330002  50.599998  31713500   \n",
       "4  2020-10-13  50.849998  51.400002  49.525002  51.180000  19134200   \n",
       "\n",
       "   % change tomorrow  \n",
       "0          -0.043028  \n",
       "1          -0.047317  \n",
       "2           0.035178  \n",
       "3           0.011333  \n",
       "4          -0.076114  "
      ]
     },
     "execution_count": 88,
     "metadata": {},
     "output_type": "execute_result"
    }
   ],
   "source": [
    "stock_df['% change tomorrow'] = -stock_df[['Close']].pct_change(periods=-1)\n",
    "stock_df = stock_df.dropna()\n",
    "stock_df['Date'] = pd.to_datetime(stock_df['Date']).dt.date\n",
    "stock_df.head()"
   ]
  },
  {
   "cell_type": "code",
   "execution_count": 89,
   "metadata": {},
   "outputs": [],
   "source": [
    "# getting the dates in order\n",
    "twitter_df[\"datetime\"] = twitter_df[['timestamp']].apply(datetime.fromtimestamp,axis=1)\n",
    "twitter_df['date'] = twitter_df['datetime'].dt.date"
   ]
  },
  {
   "cell_type": "code",
   "execution_count": 90,
   "metadata": {},
   "outputs": [],
   "source": [
    "#adding sentiment in\n",
    "analyzer = SentimentIntensityAnalyzer()\n",
    "twitter_df[\"sentiment_scores\"] = twitter_df[['text']].apply(analyzer.polarity_scores,axis=1)\n",
    "twitter_df[\"sentiment\"] = twitter_df[['text']].apply(lambda x: analyzer.polarity_scores(x)['compound'],axis=1)"
   ]
  },
  {
   "cell_type": "code",
   "execution_count": 91,
   "metadata": {},
   "outputs": [
    {
     "data": {
      "text/html": [
       "<div>\n",
       "<style scoped>\n",
       "    .dataframe tbody tr th:only-of-type {\n",
       "        vertical-align: middle;\n",
       "    }\n",
       "\n",
       "    .dataframe tbody tr th {\n",
       "        vertical-align: top;\n",
       "    }\n",
       "\n",
       "    .dataframe thead th {\n",
       "        text-align: right;\n",
       "    }\n",
       "</style>\n",
       "<table border=\"1\" class=\"dataframe\">\n",
       "  <thead>\n",
       "    <tr style=\"text-align: right;\">\n",
       "      <th></th>\n",
       "      <th>name</th>\n",
       "      <th>timestamp</th>\n",
       "      <th>likes</th>\n",
       "      <th>isretweet</th>\n",
       "      <th>isreply</th>\n",
       "      <th>text</th>\n",
       "      <th>retweets</th>\n",
       "      <th>replies</th>\n",
       "      <th>datetime</th>\n",
       "      <th>date</th>\n",
       "      <th>sentiment_scores</th>\n",
       "      <th>sentiment</th>\n",
       "    </tr>\n",
       "  </thead>\n",
       "  <tbody>\n",
       "    <tr>\n",
       "      <th>2473</th>\n",
       "      <td>mattkalish</td>\n",
       "      <td>1506724551</td>\n",
       "      <td>6</td>\n",
       "      <td>False</td>\n",
       "      <td>False</td>\n",
       "      <td>🤦‍♂️ https://t.co/CKl8eqkgtl</td>\n",
       "      <td>0</td>\n",
       "      <td>0</td>\n",
       "      <td>2017-09-29 17:35:51</td>\n",
       "      <td>2017-09-29</td>\n",
       "      <td>{'neg': 0.0, 'neu': 1.0, 'pos': 0.0, 'compound...</td>\n",
       "      <td>0.0000</td>\n",
       "    </tr>\n",
       "    <tr>\n",
       "      <th>2474</th>\n",
       "      <td>mattkalish</td>\n",
       "      <td>1506718952</td>\n",
       "      <td>0</td>\n",
       "      <td>True</td>\n",
       "      <td>False</td>\n",
       "      <td>RT @DF_Advantage: It's almost time #DraftKings...</td>\n",
       "      <td>1</td>\n",
       "      <td>0</td>\n",
       "      <td>2017-09-29 16:02:32</td>\n",
       "      <td>2017-09-29</td>\n",
       "      <td>{'neg': 0.0, 'neu': 1.0, 'pos': 0.0, 'compound...</td>\n",
       "      <td>0.0000</td>\n",
       "    </tr>\n",
       "    <tr>\n",
       "      <th>2475</th>\n",
       "      <td>mattkalish</td>\n",
       "      <td>1506709165</td>\n",
       "      <td>6</td>\n",
       "      <td>False</td>\n",
       "      <td>False</td>\n",
       "      <td>More winners of the #DraftKingsPizzaChallenge ...</td>\n",
       "      <td>1</td>\n",
       "      <td>2</td>\n",
       "      <td>2017-09-29 13:19:25</td>\n",
       "      <td>2017-09-29</td>\n",
       "      <td>{'neg': 0.0, 'neu': 0.629, 'pos': 0.371, 'comp...</td>\n",
       "      <td>0.7569</td>\n",
       "    </tr>\n",
       "    <tr>\n",
       "      <th>2476</th>\n",
       "      <td>mattkalish</td>\n",
       "      <td>1506701462</td>\n",
       "      <td>4</td>\n",
       "      <td>False</td>\n",
       "      <td>False</td>\n",
       "      <td>More winners of the #DraftKingsPizzaChallenge!...</td>\n",
       "      <td>0</td>\n",
       "      <td>3</td>\n",
       "      <td>2017-09-29 11:11:02</td>\n",
       "      <td>2017-09-29</td>\n",
       "      <td>{'neg': 0.0, 'neu': 0.765, 'pos': 0.235, 'comp...</td>\n",
       "      <td>0.5697</td>\n",
       "    </tr>\n",
       "    <tr>\n",
       "      <th>2477</th>\n",
       "      <td>mattkalish</td>\n",
       "      <td>1506695306</td>\n",
       "      <td>3</td>\n",
       "      <td>False</td>\n",
       "      <td>False</td>\n",
       "      <td>First batch of new #DraftKingsPizzaChallenge w...</td>\n",
       "      <td>1</td>\n",
       "      <td>7</td>\n",
       "      <td>2017-09-29 09:28:26</td>\n",
       "      <td>2017-09-29</td>\n",
       "      <td>{'neg': 0.0, 'neu': 0.694, 'pos': 0.306, 'comp...</td>\n",
       "      <td>0.7339</td>\n",
       "    </tr>\n",
       "  </tbody>\n",
       "</table>\n",
       "</div>"
      ],
      "text/plain": [
       "            name   timestamp  likes  isretweet  isreply  \\\n",
       "2473  mattkalish  1506724551      6      False    False   \n",
       "2474  mattkalish  1506718952      0       True    False   \n",
       "2475  mattkalish  1506709165      6      False    False   \n",
       "2476  mattkalish  1506701462      4      False    False   \n",
       "2477  mattkalish  1506695306      3      False    False   \n",
       "\n",
       "                                                   text  retweets  replies  \\\n",
       "2473                       🤦‍♂️ https://t.co/CKl8eqkgtl         0        0   \n",
       "2474  RT @DF_Advantage: It's almost time #DraftKings...         1        0   \n",
       "2475  More winners of the #DraftKingsPizzaChallenge ...         1        2   \n",
       "2476  More winners of the #DraftKingsPizzaChallenge!...         0        3   \n",
       "2477  First batch of new #DraftKingsPizzaChallenge w...         1        7   \n",
       "\n",
       "                datetime        date  \\\n",
       "2473 2017-09-29 17:35:51  2017-09-29   \n",
       "2474 2017-09-29 16:02:32  2017-09-29   \n",
       "2475 2017-09-29 13:19:25  2017-09-29   \n",
       "2476 2017-09-29 11:11:02  2017-09-29   \n",
       "2477 2017-09-29 09:28:26  2017-09-29   \n",
       "\n",
       "                                       sentiment_scores  sentiment  \n",
       "2473  {'neg': 0.0, 'neu': 1.0, 'pos': 0.0, 'compound...     0.0000  \n",
       "2474  {'neg': 0.0, 'neu': 1.0, 'pos': 0.0, 'compound...     0.0000  \n",
       "2475  {'neg': 0.0, 'neu': 0.629, 'pos': 0.371, 'comp...     0.7569  \n",
       "2476  {'neg': 0.0, 'neu': 0.765, 'pos': 0.235, 'comp...     0.5697  \n",
       "2477  {'neg': 0.0, 'neu': 0.694, 'pos': 0.306, 'comp...     0.7339  "
      ]
     },
     "execution_count": 91,
     "metadata": {},
     "output_type": "execute_result"
    }
   ],
   "source": [
    "twitter_df.tail()"
   ]
  },
  {
   "cell_type": "markdown",
   "metadata": {},
   "source": [
    "# Simple analysis"
   ]
  },
  {
   "cell_type": "code",
   "execution_count": 93,
   "metadata": {},
   "outputs": [
    {
     "data": {
      "text/html": [
       "<div>\n",
       "<style scoped>\n",
       "    .dataframe tbody tr th:only-of-type {\n",
       "        vertical-align: middle;\n",
       "    }\n",
       "\n",
       "    .dataframe tbody tr th {\n",
       "        vertical-align: top;\n",
       "    }\n",
       "\n",
       "    .dataframe thead th {\n",
       "        text-align: right;\n",
       "    }\n",
       "</style>\n",
       "<table border=\"1\" class=\"dataframe\">\n",
       "  <thead>\n",
       "    <tr style=\"text-align: right;\">\n",
       "      <th></th>\n",
       "      <th>likes</th>\n",
       "      <th>retweets</th>\n",
       "      <th>replies</th>\n",
       "      <th>sentiment</th>\n",
       "    </tr>\n",
       "    <tr>\n",
       "      <th>date</th>\n",
       "      <th></th>\n",
       "      <th></th>\n",
       "      <th></th>\n",
       "      <th></th>\n",
       "    </tr>\n",
       "  </thead>\n",
       "  <tbody>\n",
       "    <tr>\n",
       "      <th>2017-02-27</th>\n",
       "      <td>132.000000</td>\n",
       "      <td>985.000000</td>\n",
       "      <td>16.500000</td>\n",
       "      <td>0.456800</td>\n",
       "    </tr>\n",
       "    <tr>\n",
       "      <th>2017-02-28</th>\n",
       "      <td>30.500000</td>\n",
       "      <td>3.000000</td>\n",
       "      <td>4.500000</td>\n",
       "      <td>0.780950</td>\n",
       "    </tr>\n",
       "    <tr>\n",
       "      <th>2017-03-01</th>\n",
       "      <td>24.000000</td>\n",
       "      <td>1.500000</td>\n",
       "      <td>5.000000</td>\n",
       "      <td>0.220200</td>\n",
       "    </tr>\n",
       "    <tr>\n",
       "      <th>2017-03-03</th>\n",
       "      <td>9.500000</td>\n",
       "      <td>0.500000</td>\n",
       "      <td>0.500000</td>\n",
       "      <td>0.835650</td>\n",
       "    </tr>\n",
       "    <tr>\n",
       "      <th>2017-03-07</th>\n",
       "      <td>0.000000</td>\n",
       "      <td>7.000000</td>\n",
       "      <td>0.000000</td>\n",
       "      <td>0.000000</td>\n",
       "    </tr>\n",
       "    <tr>\n",
       "      <th>...</th>\n",
       "      <td>...</td>\n",
       "      <td>...</td>\n",
       "      <td>...</td>\n",
       "      <td>...</td>\n",
       "    </tr>\n",
       "    <tr>\n",
       "      <th>2021-03-03</th>\n",
       "      <td>20.055556</td>\n",
       "      <td>5.277778</td>\n",
       "      <td>3.222222</td>\n",
       "      <td>0.024439</td>\n",
       "    </tr>\n",
       "    <tr>\n",
       "      <th>2021-03-04</th>\n",
       "      <td>22.230769</td>\n",
       "      <td>83.153846</td>\n",
       "      <td>6.615385</td>\n",
       "      <td>0.251838</td>\n",
       "    </tr>\n",
       "    <tr>\n",
       "      <th>2021-03-05</th>\n",
       "      <td>59.928571</td>\n",
       "      <td>14.857143</td>\n",
       "      <td>4.428571</td>\n",
       "      <td>0.267100</td>\n",
       "    </tr>\n",
       "    <tr>\n",
       "      <th>2021-03-06</th>\n",
       "      <td>116.285714</td>\n",
       "      <td>26.142857</td>\n",
       "      <td>6.142857</td>\n",
       "      <td>0.462486</td>\n",
       "    </tr>\n",
       "    <tr>\n",
       "      <th>2021-03-07</th>\n",
       "      <td>29.541667</td>\n",
       "      <td>10.083333</td>\n",
       "      <td>9.083333</td>\n",
       "      <td>0.316833</td>\n",
       "    </tr>\n",
       "  </tbody>\n",
       "</table>\n",
       "<p>765 rows × 4 columns</p>\n",
       "</div>"
      ],
      "text/plain": [
       "                 likes    retweets    replies  sentiment\n",
       "date                                                    \n",
       "2017-02-27  132.000000  985.000000  16.500000   0.456800\n",
       "2017-02-28   30.500000    3.000000   4.500000   0.780950\n",
       "2017-03-01   24.000000    1.500000   5.000000   0.220200\n",
       "2017-03-03    9.500000    0.500000   0.500000   0.835650\n",
       "2017-03-07    0.000000    7.000000   0.000000   0.000000\n",
       "...                ...         ...        ...        ...\n",
       "2021-03-03   20.055556    5.277778   3.222222   0.024439\n",
       "2021-03-04   22.230769   83.153846   6.615385   0.251838\n",
       "2021-03-05   59.928571   14.857143   4.428571   0.267100\n",
       "2021-03-06  116.285714   26.142857   6.142857   0.462486\n",
       "2021-03-07   29.541667   10.083333   9.083333   0.316833\n",
       "\n",
       "[765 rows x 4 columns]"
      ]
     },
     "execution_count": 93,
     "metadata": {},
     "output_type": "execute_result"
    }
   ],
   "source": [
    "#this might not be too telling since there has been a lot of spam posts of late \n",
    "#(maybe filter to get rid of posts that seem like spam)\n",
    "means = twitter_df[[\"likes\", \"retweets\", \"replies\", \"sentiment\", \"date\"]].groupby(['date']).mean()\n",
    "means"
   ]
  },
  {
   "cell_type": "code",
   "execution_count": 95,
   "metadata": {},
   "outputs": [
    {
     "data": {
      "text/plain": [
       "[<matplotlib.lines.Line2D at 0x7fc45a46f550>]"
      ]
     },
     "execution_count": 95,
     "metadata": {},
     "output_type": "execute_result"
    },
    {
     "data": {
      "image/png": "[encoded data removed]",
      "text/plain": [
       "<Figure size 432x288 with 1 Axes>"
      ]
     },
     "metadata": {
      "needs_background": "light"
     },
     "output_type": "display_data"
    }
   ],
   "source": [
    "plt.plot(means['sentiment'])"
   ]
  },
  {
   "cell_type": "code",
   "execution_count": 97,
   "metadata": {},
   "outputs": [
    {
     "data": {
      "text/plain": [
       "[<matplotlib.lines.Line2D at 0x7fc45bc98340>]"
      ]
     },
     "execution_count": 97,
     "metadata": {},
     "output_type": "execute_result"
    },
    {
     "data": {
      "image/png": "[encoded data removed]",
      "text/plain": [
       "<Figure size 432x288 with 1 Axes>"
      ]
     },
     "metadata": {
      "needs_background": "light"
     },
     "output_type": "display_data"
    }
   ],
   "source": [
    "#filtered_for_recent = stock_df[stock_df.Date >= np.datetime64(datetime(2020, 10, 8).date())]\n",
    "plt.plot(stock_df.set_index('Date')[\"% change tomorrow\"])"
   ]
  },
  {
   "cell_type": "code",
   "execution_count": 98,
   "metadata": {},
   "outputs": [],
   "source": [
    "merged = pd.merge(stock_df, twitter_df, left_index=True, right_index=True)"
   ]
  },
  {
   "cell_type": "code",
   "execution_count": 100,
   "metadata": {},
   "outputs": [
    {
     "data": {
      "text/plain": [
       "0.035857132251033916"
      ]
     },
     "execution_count": 100,
     "metadata": {},
     "output_type": "execute_result"
    }
   ],
   "source": [
    "merged['sentiment'].corr(merged['% change tomorrow'])"
   ]
  },
  {
   "cell_type": "markdown",
   "metadata": {},
   "source": [
    "# :( not good results with just this (should filter out spam though)"
   ]
  },
  {
   "cell_type": "code",
   "execution_count": null,
   "metadata": {},
   "outputs": [],
   "source": []
  }
 ],
 "metadata": {
  "kernelspec": {
   "display_name": "Python 3",
   "language": "python",
   "name": "python3"
  },
  "language_info": {
   "codemirror_mode": {
    "name": "ipython",
    "version": 3
   },
   "file_extension": ".py",
   "mimetype": "text/x-python",
   "name": "python",
   "nbconvert_exporter": "python",
   "pygments_lexer": "ipython3",
   "version": "3.8.5"
  }
 },
 "nbformat": 4,
 "nbformat_minor": 4
}
