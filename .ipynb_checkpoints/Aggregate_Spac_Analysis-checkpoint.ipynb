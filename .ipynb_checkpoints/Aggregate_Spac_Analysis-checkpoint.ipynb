{
 "cells": [
  {
   "cell_type": "code",
   "execution_count": 166,
   "metadata": {},
   "outputs": [],
   "source": [
    "import pandas as pd\n",
    "import numpy as np\n",
    "import matplotlib.pyplot as plt\n",
    "from datetime import datetime\n",
    "import datetime as dt\n",
    "from vaderSentiment.vaderSentiment import SentimentIntensityAnalyzer"
   ]
  },
  {
   "cell_type": "code",
   "execution_count": 167,
   "metadata": {},
   "outputs": [],
   "source": [
    "company = \"IPOE\"\n",
    "\n",
    "twitter_df = pd.read_csv(\"twitter_data/spac_aggregate.csv\")\n",
    "stock_df = pd.read_csv(\"stock_data/{}.csv\".format(company))"
   ]
  },
  {
   "cell_type": "code",
   "execution_count": 168,
   "metadata": {},
   "outputs": [
    {
     "data": {
      "text/html": [
       "<div>\n",
       "<style scoped>\n",
       "    .dataframe tbody tr th:only-of-type {\n",
       "        vertical-align: middle;\n",
       "    }\n",
       "\n",
       "    .dataframe tbody tr th {\n",
       "        vertical-align: top;\n",
       "    }\n",
       "\n",
       "    .dataframe thead th {\n",
       "        text-align: right;\n",
       "    }\n",
       "</style>\n",
       "<table border=\"1\" class=\"dataframe\">\n",
       "  <thead>\n",
       "    <tr style=\"text-align: right;\">\n",
       "      <th></th>\n",
       "      <th>Date</th>\n",
       "      <th>Open</th>\n",
       "      <th>High</th>\n",
       "      <th>Low</th>\n",
       "      <th>Close</th>\n",
       "      <th>Volume</th>\n",
       "      <th>% change tomorrow</th>\n",
       "    </tr>\n",
       "  </thead>\n",
       "  <tbody>\n",
       "    <tr>\n",
       "      <th>0</th>\n",
       "      <td>2020-12-01</td>\n",
       "      <td>10.60</td>\n",
       "      <td>10.740</td>\n",
       "      <td>10.46</td>\n",
       "      <td>10.60</td>\n",
       "      <td>437500</td>\n",
       "      <td>-0.004739</td>\n",
       "    </tr>\n",
       "    <tr>\n",
       "      <th>1</th>\n",
       "      <td>2020-12-02</td>\n",
       "      <td>10.65</td>\n",
       "      <td>10.705</td>\n",
       "      <td>10.40</td>\n",
       "      <td>10.55</td>\n",
       "      <td>318100</td>\n",
       "      <td>-0.012476</td>\n",
       "    </tr>\n",
       "    <tr>\n",
       "      <th>2</th>\n",
       "      <td>2020-12-03</td>\n",
       "      <td>10.55</td>\n",
       "      <td>10.560</td>\n",
       "      <td>10.40</td>\n",
       "      <td>10.42</td>\n",
       "      <td>448300</td>\n",
       "      <td>-0.000961</td>\n",
       "    </tr>\n",
       "    <tr>\n",
       "      <th>3</th>\n",
       "      <td>2020-12-04</td>\n",
       "      <td>10.65</td>\n",
       "      <td>10.650</td>\n",
       "      <td>10.37</td>\n",
       "      <td>10.41</td>\n",
       "      <td>536500</td>\n",
       "      <td>0.019774</td>\n",
       "    </tr>\n",
       "    <tr>\n",
       "      <th>4</th>\n",
       "      <td>2020-12-07</td>\n",
       "      <td>10.69</td>\n",
       "      <td>10.800</td>\n",
       "      <td>10.44</td>\n",
       "      <td>10.62</td>\n",
       "      <td>824200</td>\n",
       "      <td>0.022999</td>\n",
       "    </tr>\n",
       "  </tbody>\n",
       "</table>\n",
       "</div>"
      ],
      "text/plain": [
       "         Date   Open    High    Low  Close  Volume  % change tomorrow\n",
       "0  2020-12-01  10.60  10.740  10.46  10.60  437500          -0.004739\n",
       "1  2020-12-02  10.65  10.705  10.40  10.55  318100          -0.012476\n",
       "2  2020-12-03  10.55  10.560  10.40  10.42  448300          -0.000961\n",
       "3  2020-12-04  10.65  10.650  10.37  10.41  536500           0.019774\n",
       "4  2020-12-07  10.69  10.800  10.44  10.62  824200           0.022999"
      ]
     },
     "execution_count": 168,
     "metadata": {},
     "output_type": "execute_result"
    }
   ],
   "source": [
    "stock_df['% change tomorrow'] = -stock_df[['Close']].pct_change(periods=-1)\n",
    "stock_df = stock_df.dropna()\n",
    "stock_df['Date'] = pd.to_datetime(stock_df['Date']).dt.date\n",
    "stock_df.head()"
   ]
  },
  {
   "cell_type": "code",
   "execution_count": 169,
   "metadata": {},
   "outputs": [],
   "source": [
    "# getting the dates in order\n",
    "twitter_df[\"datetime\"] = twitter_df[['timestamp']].apply(datetime.fromtimestamp,axis=1)\n",
    "twitter_df['date'] = twitter_df['datetime'].dt.date"
   ]
  },
  {
   "cell_type": "code",
   "execution_count": 170,
   "metadata": {},
   "outputs": [],
   "source": [
    "#adding sentiment in\n",
    "analyzer = SentimentIntensityAnalyzer()\n",
    "twitter_df[\"sentiment_scores\"] = twitter_df[['text']].apply(analyzer.polarity_scores,axis=1)\n",
    "twitter_df[\"sentiment\"] = twitter_df[['text']].apply(lambda x: analyzer.polarity_scores(x)['compound'],axis=1)"
   ]
  },
  {
   "cell_type": "markdown",
   "metadata": {},
   "source": [
    "# Simple analysis"
   ]
  },
  {
   "cell_type": "code",
   "execution_count": 171,
   "metadata": {},
   "outputs": [],
   "source": [
    "twitter_df = twitter_df[twitter_df['text'].str.contains(company)]"
   ]
  },
  {
   "cell_type": "code",
   "execution_count": 172,
   "metadata": {},
   "outputs": [
    {
     "data": {
      "text/plain": [
       "(126, 12)"
      ]
     },
     "execution_count": 172,
     "metadata": {},
     "output_type": "execute_result"
    }
   ],
   "source": [
    "twitter_df.shape"
   ]
  },
  {
   "cell_type": "code",
   "execution_count": 173,
   "metadata": {},
   "outputs": [],
   "source": [
    "#this might not be too telling since there has been a lot of spam posts of late \n",
    "#(maybe filter to get rid of posts that seem like spam)\n",
    "filtered_df = twitter_df[(twitter_df['retweets'] >=0) & (twitter_df['likes'] >= 0)]\n",
    "means = filtered_df[[\"likes\", \"retweets\", \"replies\", \"sentiment\", \"date\"]].groupby(['date']).mean()\n",
    "means = means.dropna()"
   ]
  },
  {
   "cell_type": "code",
   "execution_count": 174,
   "metadata": {},
   "outputs": [
    {
     "data": {
      "text/plain": [
       "(53, 4)"
      ]
     },
     "execution_count": 174,
     "metadata": {},
     "output_type": "execute_result"
    }
   ],
   "source": [
    "means.shape"
   ]
  },
  {
   "cell_type": "code",
   "execution_count": 175,
   "metadata": {},
   "outputs": [],
   "source": [
    "merged = pd.merge(stock_df.set_index('Date'), means, left_index=True, right_index=True)"
   ]
  },
  {
   "cell_type": "code",
   "execution_count": 176,
   "metadata": {},
   "outputs": [
    {
     "data": {
      "text/plain": [
       "0.062228198575376786"
      ]
     },
     "execution_count": 176,
     "metadata": {},
     "output_type": "execute_result"
    }
   ],
   "source": [
    "merged['sentiment'].clip(upper=10000).corr(merged['% change tomorrow'])"
   ]
  },
  {
   "cell_type": "code",
   "execution_count": 177,
   "metadata": {},
   "outputs": [
    {
     "data": {
      "text/plain": [
       "<matplotlib.collections.PathCollection at 0x7fc63c04b160>"
      ]
     },
     "execution_count": 177,
     "metadata": {},
     "output_type": "execute_result"
    },
    {
     "data": {
      "image/png": "[encoded data removed]",
      "text/plain": [
       "<Figure size 432x288 with 1 Axes>"
      ]
     },
     "metadata": {
      "needs_background": "light"
     },
     "output_type": "display_data"
    }
   ],
   "source": [
    "plt.scatter(merged['sentiment'].clip(upper=10000), merged['% change tomorrow'])"
   ]
  },
  {
   "cell_type": "markdown",
   "metadata": {},
   "source": [
    "# backtesting"
   ]
  },
  {
   "cell_type": "code",
   "execution_count": 178,
   "metadata": {},
   "outputs": [],
   "source": [
    "money = 100\n",
    "indices = []\n",
    "profits = []\n",
    "\n",
    "for index, row in merged.iterrows():\n",
    "    if row['likes'] > 25 and row['sentiment'] >= 0:\n",
    "        profits.append(money*(1+row['% change tomorrow']))\n",
    "        indices.append(index)\n",
    "        money *= (1+row['% change tomorrow'])\n",
    "    elif row['sentiment'] < 0 and row['likes'] > 25:\n",
    "        profits.append(money/(1+row['% change tomorrow']))\n",
    "        indices.append(index)\n",
    "        money /= (1+row['% change tomorrow'])\n",
    "        pass"
   ]
  },
  {
   "cell_type": "code",
   "execution_count": 181,
   "metadata": {},
   "outputs": [
    {
     "data": {
      "image/png": "[encoded data removed]",
      "text/plain": [
       "<Figure size 432x288 with 1 Axes>"
      ]
     },
     "metadata": {
      "needs_background": "light"
     },
     "output_type": "display_data"
    }
   ],
   "source": [
    "plt.title(\"PNL For IPOE Based On Tweets\")\n",
    "plt.plot(indices, profits)\n",
    "plt.xticks(rotation=45)\n",
    "plt.show()\n"
   ]
  },
  {
   "cell_type": "code",
   "execution_count": 182,
   "metadata": {},
   "outputs": [],
   "source": [
    "def create_merged_df(ticker):\n",
    "    twitter_df = pd.read_csv(\"twitter_data/spac_aggregate.csv\")\n",
    "    stock_df = pd.read_csv(\"stock_data/{}.csv\".format(ticker))\n",
    "    \n",
    "    stock_df['% change tomorrow'] = -stock_df[['Close']].pct_change(periods=-1)\n",
    "    stock_df = stock_df.dropna()\n",
    "    stock_df['Date'] = pd.to_datetime(stock_df['Date']).dt.date\n",
    "    stock_df.head()\n",
    "    \n",
    "    # getting the dates in order\n",
    "    twitter_df[\"datetime\"] = twitter_df[['timestamp']].apply(datetime.fromtimestamp,axis=1)\n",
    "    twitter_df['date'] = twitter_df['datetime'].dt.date\n",
    "    \n",
    "    #adding sentiment in\n",
    "    analyzer = SentimentIntensityAnalyzer()\n",
    "    twitter_df[\"sentiment_scores\"] = twitter_df[['text']].apply(analyzer.polarity_scores,axis=1)\n",
    "    twitter_df[\"sentiment\"] = twitter_df[['text']].apply(lambda x: analyzer.polarity_scores(x)['compound'],axis=1)\n",
    "    \n",
    "    twitter_df = twitter_df[twitter_df['text'].str.contains(company)]\n",
    "    \n",
    "    #this might not be too telling since there has been a lot of spam posts of late \n",
    "    #(maybe filter to get rid of posts that seem like spam)\n",
    "    filtered_df = twitter_df[(twitter_df['retweets'] >=0) & (twitter_df['likes'] >= 0)]\n",
    "    means = filtered_df[[\"likes\", \"retweets\", \"replies\", \"sentiment\", \"date\"]].groupby(['date']).mean()\n",
    "    means = means.dropna()\n",
    "    \n",
    "    merged = pd.merge(stock_df.set_index('Date'), means, left_index=True, right_index=True)\n",
    "    \n",
    "    return merged"
   ]
  },
  {
   "cell_type": "code",
   "execution_count": null,
   "metadata": {},
   "outputs": [],
   "source": [
    "tickers = [\"SPCE\", \"SOAC\", \"SNPR\", \"SHLL\", \"PSTH\", \"NOVSU\", \"JWS\", \"DKNG\", \"CLA\", \"CCIV\", \"BTAQ\", \"BFT\", \"APSG\"]\n",
    "merged = create_merged_df(\"IPOE\")\n",
    "for ticker in tickers:\n",
    "    merged = merged.append(create_merged_df(ticker))"
   ]
  },
  {
   "cell_type": "code",
   "execution_count": null,
   "metadata": {},
   "outputs": [],
   "source": [
    "merged.tail()"
   ]
  },
  {
   "cell_type": "code",
   "execution_count": null,
   "metadata": {},
   "outputs": [],
   "source": [
    "merged.index.unique()"
   ]
  },
  {
   "cell_type": "code",
   "execution_count": null,
   "metadata": {},
   "outputs": [],
   "source": [
    "money = 100\n",
    "indices = []\n",
    "profits = []\n",
    "\n",
    "\n",
    "\n",
    "for date in sorted(merged.index.unique()):\n",
    "    print(date)\n",
    "    sub = merged[merged.index == date]\n",
    "    r = sub.loc[sub['replies'].idxmax()].iloc[0]\n",
    "    if r['sentiment'] > 0:\n",
    "        profits.append(money*(1+r['% change tomorrow']))\n",
    "        indices.append(date)\n",
    "        money *= (1+row['% change tomorrow'])\n",
    "    elif r['sentiment'] < 0:\n",
    "        profits.append(money/(1+row['% change tomorrow']))\n",
    "        indices.append(date)\n",
    "        money /= (1+row['% change tomorrow'])\n",
    "    "
   ]
  },
  {
   "cell_type": "code",
   "execution_count": null,
   "metadata": {},
   "outputs": [],
   "source": [
    "plt.title(\"Investing in the Top Engaged Tweets Across Spacs\")\n",
    "plt.ylabel(\"Cumulative Profits\")\n",
    "plt.xlabel(\"Date\")\n",
    "plt.plot(indices, profits)\n",
    "plt.xticks(rotation=45)\n",
    "plt.show()"
   ]
  },
  {
   "cell_type": "code",
   "execution_count": null,
   "metadata": {},
   "outputs": [],
   "source": []
  }
 ],
 "metadata": {
  "kernelspec": {
   "display_name": "Python 3",
   "language": "python",
   "name": "python3"
  },
  "language_info": {
   "codemirror_mode": {
    "name": "ipython",
    "version": 3
   },
   "file_extension": ".py",
   "mimetype": "text/x-python",
   "name": "python",
   "nbconvert_exporter": "python",
   "pygments_lexer": "ipython3",
   "version": "3.8.5"
  }
 },
 "nbformat": 4,
 "nbformat_minor": 4
}
